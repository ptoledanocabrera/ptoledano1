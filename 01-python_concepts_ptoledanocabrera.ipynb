{
 "cells": [
  {
   "cell_type": "markdown",
   "id": "9383bafa",
   "metadata": {},
   "source": [
    "### Python Programming Concepts"
   ]
  },
  {
   "cell_type": "markdown",
   "id": "17df7d6e",
   "metadata": {},
   "source": [
    "#### 1. Create a variable to store the value 500 for sales"
   ]
  },
  {
   "cell_type": "code",
   "execution_count": 12,
   "id": "a5f43c2f",
   "metadata": {},
   "outputs": [
    {
     "data": {
      "text/plain": [
       "500"
      ]
     },
     "execution_count": 12,
     "metadata": {},
     "output_type": "execute_result"
    }
   ],
   "source": [
    "sales = 500\n",
    "sales"
   ]
  },
  {
   "cell_type": "markdown",
   "id": "6dc8b9ea",
   "metadata": {},
   "source": [
    "#### 2. Create a variable to store several values:  \n",
    "* sales: 500, 475, 625\n",
    "* integers 1 - 9 "
   ]
  },
  {
   "cell_type": "code",
   "execution_count": 13,
   "id": "902fe3bd",
   "metadata": {},
   "outputs": [
    {
     "name": "stdout",
     "output_type": "stream",
     "text": [
      "500\n",
      "475\n",
      "625\n"
     ]
    },
    {
     "data": {
      "text/plain": [
       "[1, 2, 3, 4, 5, 6, 7, 8, 9]"
      ]
     },
     "execution_count": 13,
     "metadata": {},
     "output_type": "execute_result"
    }
   ],
   "source": [
    "sales = [500, 475, 625]\n",
    "for sale in sales:\n",
    "    print(sale)\n",
    "    \n",
    "integers = list(range(1,10))\n",
    "integers"
   ]
  },
  {
   "cell_type": "markdown",
   "id": "62e55953",
   "metadata": {},
   "source": [
    "#### 3. Create a variable to store the names and email addresses for a number of customers\n",
    "* John, john@some.com; Ann, ann@some.com"
   ]
  },
  {
   "cell_type": "code",
   "execution_count": 16,
   "id": "03f2b161",
   "metadata": {},
   "outputs": [
    {
     "data": {
      "text/plain": [
       "dict_values(['John', 'john@some.com'])"
      ]
     },
     "execution_count": 16,
     "metadata": {},
     "output_type": "execute_result"
    }
   ],
   "source": [
    "customers = [{'name':'John', 'email':'john@some.com'}, {'name':'Ann', 'email':'ann@some.com'}]\n",
    "customers[0].values()"
   ]
  },
  {
   "cell_type": "markdown",
   "id": "d6b1e8c6",
   "metadata": {},
   "source": [
    "#### 4. Use Python to generate a random value based on each of following:\n",
    "1. between 0 and 1\n",
    "2. the standard normal distribution (rounded to two decimal places)\n",
    "3. a value between 1 and 10\n",
    "4. either H or T"
   ]
  },
  {
   "cell_type": "code",
   "execution_count": 17,
   "id": "c789b025",
   "metadata": {},
   "outputs": [],
   "source": [
    "import random"
   ]
  },
  {
   "cell_type": "code",
   "execution_count": 20,
   "id": "f004d7b5",
   "metadata": {},
   "outputs": [
    {
     "data": {
      "text/plain": [
       "0.725293400633308"
      ]
     },
     "execution_count": 20,
     "metadata": {},
     "output_type": "execute_result"
    }
   ],
   "source": [
    "between_0_and_1 = random.random()\n",
    "between_0_and_1"
   ]
  },
  {
   "cell_type": "code",
   "execution_count": null,
   "id": "a8efc6fc",
   "metadata": {},
   "outputs": [],
   "source": [
    "normal_distribution = random.gauss(0, 1)\n",
    "normal_distribution"
   ]
  },
  {
   "cell_type": "code",
   "execution_count": 22,
   "id": "1a29e601",
   "metadata": {},
   "outputs": [
    {
     "data": {
      "text/plain": [
       "7.65568230963148"
      ]
     },
     "execution_count": 22,
     "metadata": {},
     "output_type": "execute_result"
    }
   ],
   "source": [
    "between_1_and_10 = random.uniform(1, 10)\n",
    "between_1_and_10"
   ]
  },
  {
   "cell_type": "code",
   "execution_count": 23,
   "id": "3a150c3e",
   "metadata": {},
   "outputs": [
    {
     "data": {
      "text/plain": [
       "'H'"
      ]
     },
     "execution_count": 23,
     "metadata": {},
     "output_type": "execute_result"
    }
   ],
   "source": [
    "random_h_or_t = random.choice(['H', 'T'])\n",
    "random_h_or_t"
   ]
  },
  {
   "cell_type": "code",
   "execution_count": 25,
   "id": "dd217a86",
   "metadata": {},
   "outputs": [
    {
     "data": {
      "text/plain": [
       "['', '', 'HH', '', '', '', '', '', '']"
      ]
     },
     "execution_count": 25,
     "metadata": {},
     "output_type": "execute_result"
    }
   ],
   "source": [
    "flips = ''\n",
    "for flip in range(10):\n",
    "    flips += random.choice(['H', 'T'])\n",
    "flips\n",
    "flips.split('T')"
   ]
  },
  {
   "cell_type": "markdown",
   "id": "7eddf06a",
   "metadata": {},
   "source": [
    "#### 5. Use Python to determine your current working directory"
   ]
  },
  {
   "cell_type": "code",
   "execution_count": 45,
   "id": "d8f79474",
   "metadata": {},
   "outputs": [],
   "source": [
    "import os\n",
    "path = os.getcwd()"
   ]
  },
  {
   "cell_type": "markdown",
   "id": "fc43ec50",
   "metadata": {},
   "source": [
    "#### 6. Use Python to determine how many days until New Year's Day"
   ]
  },
  {
   "cell_type": "code",
   "execution_count": 35,
   "id": "13f630fe",
   "metadata": {},
   "outputs": [
    {
     "data": {
      "text/plain": [
       "datetime.timedelta(days=350)"
      ]
     },
     "execution_count": 35,
     "metadata": {},
     "output_type": "execute_result"
    }
   ],
   "source": [
    "import datetime as dt\n",
    "\n",
    "# Get the current date\n",
    "today = dt.date.today()\n",
    "\n",
    "days_to_ny = dt.date(2025, 1, 1)\n",
    "\n",
    "days_to_ny - today\n"
   ]
  },
  {
   "cell_type": "markdown",
   "id": "2ba4ea92",
   "metadata": {},
   "source": [
    "#### 7. Write a short program that displays the future value of 1,000 earning 5%  at the end of each year for the next 5 years"
   ]
  },
  {
   "cell_type": "code",
   "execution_count": 44,
   "id": "6fef4a8c",
   "metadata": {},
   "outputs": [
    {
     "name": "stdout",
     "output_type": "stream",
     "text": [
      "Year                Value\n",
      "-------------------------\n",
      "1              1,050.00\n",
      "2              1,102.50\n",
      "3              1,157.63\n",
      "4              1,215.51\n",
      "5              1,276.28\n"
     ]
    }
   ],
   "source": [
    "pv = 1000\n",
    "rate = 0.05\n",
    "years = 5\n",
    "\n",
    "print(f\"{'Year':<15}{'Value':>10}\")\n",
    "print(\"-\" * 25)\n",
    "for year in range(1, years + 1):\n",
    "    print(f\"{year:<15}{pv * (1 + rate) ** year:>,.2f}\")"
   ]
  },
  {
   "cell_type": "markdown",
   "id": "150201c8",
   "metadata": {},
   "source": [
    "#### 8. Write a short program that prompts a user to enter a stock symbol and press enter. Add each symbol entered to a variable. The program should run until the user presses the enter key without entering anything (empty string) "
   ]
  },
  {
   "cell_type": "code",
   "execution_count": 42,
   "id": "ab19f1f2",
   "metadata": {},
   "outputs": [
    {
     "name": "stdout",
     "output_type": "stream",
     "text": [
      "Enter stock symbol or press enter to quit:APPL\n",
      "Enter stock symbol or press enter to quit:IBM\n",
      "Enter stock symbol or press enter to quit:NVDA\n",
      "Enter stock symbol or press enter to quit:\n",
      "['APPL', 'IBM', 'NVDA']\n"
     ]
    }
   ],
   "source": [
    "stocks = []\n",
    "while True:\n",
    "    symbol = input('Enter stock symbol or press enter to quit:')\n",
    "    if symbol == '':\n",
    "        break\n",
    "    stocks.append(symbol)\n",
    "print(stocks)"
   ]
  },
  {
   "cell_type": "markdown",
   "id": "fc2a7592",
   "metadata": {},
   "source": [
    "#### 9. Write the code necessary to calculate the sum of the square differences of a group of values : \n",
    "58, 32, 37, 41, 36, 36, 54, 37, 25, 53\n",
    "##### $\\Sigma $(${x}$ - $\\bar{x}$)$^2$"
   ]
  },
  {
   "cell_type": "markdown",
   "id": "89a7db2f",
   "metadata": {},
   "source": []
  },
  {
   "cell_type": "code",
   "execution_count": 11,
   "id": "7a67b760",
   "metadata": {},
   "outputs": [],
   "source": [
    "numbers = [58, 32, 37, 41, 36, 36, 54, 37, 25, 53]\n",
    "\n",
    "average = sum(numbers)/len(numbers)\n",
    "\n",
    "sum_squared_diff = sum((x - average) ** 2 for x in numbers)"
   ]
  },
  {
   "cell_type": "markdown",
   "id": "6d6f2e64",
   "metadata": {},
   "source": [
    "#### 10. Opening, reading and writing files"
   ]
  },
  {
   "cell_type": "code",
   "execution_count": 4,
   "id": "f7fa569d",
   "metadata": {},
   "outputs": [
    {
     "ename": "FileNotFoundError",
     "evalue": "[Errno 2] No such file or directory: 'desolation_row.txt'",
     "output_type": "error",
     "traceback": [
      "\u001b[0;31m---------------------------------------------------------------------------\u001b[0m",
      "\u001b[0;31mFileNotFoundError\u001b[0m                         Traceback (most recent call last)",
      "Input \u001b[0;32mIn [4]\u001b[0m, in \u001b[0;36m<cell line: 2>\u001b[0;34m()\u001b[0m\n\u001b[1;32m      1\u001b[0m \u001b[38;5;66;03m# Opening a file for reading\u001b[39;00m\n\u001b[0;32m----> 2\u001b[0m \u001b[38;5;28;01mwith\u001b[39;00m \u001b[38;5;28;43mopen\u001b[39;49m\u001b[43m(\u001b[49m\u001b[38;5;124;43m'\u001b[39;49m\u001b[38;5;124;43mdesolation_row.txt\u001b[39;49m\u001b[38;5;124;43m'\u001b[39;49m\u001b[43m,\u001b[49m\u001b[43m \u001b[49m\u001b[38;5;124;43m'\u001b[39;49m\u001b[38;5;124;43mr\u001b[39;49m\u001b[38;5;124;43m'\u001b[39;49m\u001b[43m)\u001b[49m \u001b[38;5;28;01mas\u001b[39;00m file:\n\u001b[1;32m      3\u001b[0m     content \u001b[38;5;241m=\u001b[39m file\u001b[38;5;241m.\u001b[39mread()\n\u001b[1;32m      4\u001b[0m     \u001b[38;5;66;03m# Process or print the content\u001b[39;00m\n\u001b[1;32m      5\u001b[0m \n\u001b[1;32m      6\u001b[0m \u001b[38;5;66;03m# Opening a file for writing\u001b[39;00m\n",
      "\u001b[0;31mFileNotFoundError\u001b[0m: [Errno 2] No such file or directory: 'desolation_row.txt'"
     ]
    }
   ],
   "source": [
    "# Opening a file for reading\n",
    "with open('desolation_row.txt', 'r') as file:\n",
    "    content = file.read()\n",
    "    # Process or print the content\n",
    "\n",
    "# Opening a file for writing\n",
    "with open('desolation_row.txt', 'w') as file:\n",
    "    file.write('Hello, this is a new file!\\n')\n",
    "\n",
    "# Opening a file for appending\n",
    "with open('desolation_row.txt', 'a') as file:\n",
    "    file.write('Appending new content!\\n')"
   ]
  },
  {
   "cell_type": "markdown",
   "id": "eec548d6",
   "metadata": {},
   "source": [
    "#### 11. Create a function the will simulate rolling two die and return the value of each and and the sum "
   ]
  },
  {
   "cell_type": "code",
   "execution_count": null,
   "id": "bb115cdc",
   "metadata": {},
   "outputs": [],
   "source": [
    "import random\n",
    "\n",
    "def roll_two_dice():\n",
    "    # Simulate rolling two dice\n",
    "    die1 = random.randint(1, 6)\n",
    "    die2 = random.randint(1, 6)\n",
    "\n",
    "    # Calculate the sum of the two dice\n",
    "    total_sum = die1 + die2\n",
    "\n",
    "    # Return the values and sum\n",
    "    return die1, die2, total_sum\n",
    "\n",
    "# Example usage:\n",
    "result = roll_two_dice()\n",
    "print(f\"Die 1: {result[0]}, Die 2: {result[1]}, Sum: {result[2]}\")"
   ]
  },
  {
   "cell_type": "markdown",
   "id": "21556d7f",
   "metadata": {},
   "source": [
    "#### 12. Write the code needed to evaluate whether a value in a group of values is negative or postive and prints an approriate message, i.e. postive, negative \n",
    "-1.59, 2.36, 1.69, 1.13, -0.91, 1.48, -0.34, 1.31, -0.74, 0.2"
   ]
  },
  {
   "cell_type": "code",
   "execution_count": null,
   "id": "d6c38ecb",
   "metadata": {},
   "outputs": [],
   "source": [
    "def check_positive_negative(values):\n",
    "    for value in values:\n",
    "        if value > 0:\n",
    "            print(f\"{value} is positive.\")\n",
    "        elif value < 0:\n",
    "            print(f\"{value} is negative.\")\n",
    "        else:\n",
    "            print(f\"{value} is zero.\")\n",
    "\n",
    "# Example usage:\n",
    "user_input = input(\"Enter a list of values separated by commas: \")\n",
    "try:\n",
    "    values = [float(val) for val in user_input.split(\",\")]\n",
    "    check_positive_negative(values)\n",
    "except ValueError:\n",
    "    print(\"Invalid input. Please enter numeric values separated by spaces.\")"
   ]
  },
  {
   "cell_type": "markdown",
   "id": "8cafe65c",
   "metadata": {},
   "source": [
    "#### 14.  Complete the following:\n",
    "1. Write a program that generates 500 random integers from 1 to n, for example, the first integer will be 1 the second will be 1 or 2, the fifth between 1 and 5, and so on.\n",
    "2. The program should write each integer to a file \n",
    "3. Once all integers are written close the file\n",
    "\n",
    "##### Part 2\n",
    "1. Open and read the file into a list\n",
    "2. Create a line plot of the data"
   ]
  },
  {
   "cell_type": "code",
   "execution_count": 1,
   "id": "60a910bb",
   "metadata": {},
   "outputs": [
    {
     "name": "stdout",
     "output_type": "stream",
     "text": [
      "Random integers have been written to 'random_integers.txt'.\n"
     ]
    }
   ],
   "source": [
    "import random\n",
    "\n",
    "def generate_and_write_to_file(n, filename):\n",
    "    with open(filename, 'w') as file:\n",
    "        for i in range(1, 501):  # Generating 500 random integers\n",
    "            random_int = random.randint(1, min(i, n))\n",
    "            file.write(f\"{random_int}\\n\")\n",
    "\n",
    "    print(f\"Random integers have been written to '{filename}'.\")\n",
    "\n",
    "# Example usage with n = 5 and filename = \"random_integers.txt\"\n",
    "n_value = 5\n",
    "output_filename = \"random_integers.txt\"\n",
    "generate_and_write_to_file(n_value, output_filename)"
   ]
  },
  {
   "cell_type": "code",
   "execution_count": 2,
   "id": "d6b4180c",
   "metadata": {},
   "outputs": [
    {
     "name": "stdout",
     "output_type": "stream",
     "text": [
      "List of Generated Integers: [1, 2, 2, 3, 5, 3, 2, 1, 3, 1, 5, 1, 2, 3, 2, 3, 1, 4, 5, 2, 1, 4, 3, 1, 4, 1, 2, 5, 5, 5, 5, 3, 1, 2, 5, 4, 3, 1, 4, 2, 3, 5, 1, 5, 3, 2, 1, 3, 3, 1, 4, 3, 4, 1, 3, 3, 3, 5, 5, 4, 1, 1, 5, 4, 2, 5, 5, 5, 4, 3, 2, 4, 3, 3, 3, 5, 4, 3, 2, 5, 1, 4, 5, 4, 5, 5, 3, 3, 5, 5, 4, 5, 1, 1, 4, 2, 2, 5, 1, 1, 4, 4, 2, 5, 4, 5, 5, 5, 1, 4, 4, 2, 4, 2, 4, 2, 3, 5, 2, 1, 2, 5, 4, 1, 4, 2, 5, 1, 4, 5, 5, 1, 4, 2, 4, 4, 2, 5, 1, 3, 4, 5, 5, 3, 3, 5, 5, 3, 2, 4, 5, 2, 3, 5, 2, 4, 3, 4, 4, 4, 3, 5, 1, 5, 1, 4, 1, 3, 4, 5, 2, 3, 5, 5, 2, 2, 5, 3, 2, 4, 2, 1, 2, 2, 3, 2, 1, 4, 3, 2, 5, 5, 5, 3, 2, 5, 1, 3, 1, 4, 3, 2, 5, 5, 3, 3, 2, 4, 5, 2, 1, 3, 2, 4, 1, 2, 5, 1, 2, 2, 1, 1, 4, 2, 5, 4, 5, 2, 2, 2, 3, 1, 4, 4, 3, 4, 2, 3, 2, 1, 1, 2, 5, 1, 5, 3, 2, 1, 4, 4, 1, 3, 4, 5, 1, 5, 4, 1, 1, 1, 5, 2, 4, 1, 1, 3, 4, 1, 1, 1, 2, 5, 2, 3, 2, 2, 3, 4, 2, 4, 2, 3, 1, 4, 4, 5, 2, 5, 1, 2, 1, 1, 2, 2, 2, 4, 2, 1, 2, 2, 1, 2, 5, 4, 1, 5, 5, 3, 5, 4, 4, 4, 1, 4, 3, 2, 2, 1, 1, 1, 1, 3, 3, 2, 4, 2, 1, 3, 3, 2, 1, 4, 4, 2, 5, 2, 2, 3, 1, 3, 1, 5, 4, 4, 1, 2, 1, 1, 4, 4, 5, 1, 4, 2, 4, 1, 4, 5, 1, 4, 2, 2, 1, 1, 3, 4, 2, 5, 1, 4, 3, 4, 5, 1, 1, 1, 3, 4, 3, 5, 5, 2, 4, 2, 4, 4, 3, 5, 5, 4, 2, 5, 2, 5, 5, 2, 4, 3, 2, 3, 2, 1, 5, 3, 2, 2, 3, 4, 4, 5, 3, 5, 2, 1, 1, 2, 5, 1, 2, 3, 2, 1, 5, 2, 5, 5, 4, 4, 2, 5, 5, 1, 4, 1, 5, 1, 5, 4, 5, 3, 3, 4, 4, 4, 5, 2, 2, 4, 3, 5, 4, 2, 2, 5, 1, 1, 5, 3, 3, 1, 3, 2, 5, 4, 3, 5, 3, 4, 4, 2, 2, 3, 4, 3, 5, 5, 3, 4, 3, 2, 2, 2, 5, 2, 3, 4, 4, 2, 2, 3, 2, 3, 4, 2, 2, 1, 4, 5, 3, 4]\n"
     ]
    }
   ],
   "source": [
    "def read_file_to_list(filename):\n",
    "    with open(filename, 'r') as file:\n",
    "        integer_list = [int(line.strip()) for line in file.readlines()]\n",
    "    return integer_list\n",
    "\n",
    "# Example usage with filename = \"random_integers.txt\"\n",
    "output_filename = \"random_integers.txt\"\n",
    "generated_integers = read_file_to_list(output_filename)\n",
    "\n",
    "# Print the list of generated integers\n",
    "print(\"List of Generated Integers:\", generated_integers)"
   ]
  },
  {
   "cell_type": "code",
   "execution_count": null,
   "id": "adb6aa11",
   "metadata": {},
   "outputs": [],
   "source": [
    "pip install matplotlib"
   ]
  },
  {
   "cell_type": "code",
   "execution_count": 3,
   "id": "6745da79",
   "metadata": {},
   "outputs": [
    {
     "data": {
      "image/png": "[encoded data removed]",
      "text/plain": [
       "<Figure size 432x288 with 1 Axes>"
      ]
     },
     "metadata": {
      "needs_background": "light"
     },
     "output_type": "display_data"
    }
   ],
   "source": [
    "import matplotlib.pyplot as plt\n",
    "\n",
    "# Example usage with filename = \"random_integers.txt\"\n",
    "output_filename = \"random_integers.txt\"\n",
    "generated_integers = read_file_to_list(output_filename)\n",
    "\n",
    "# Create a histogram\n",
    "plt.hist(generated_integers, bins=range(1, max(generated_integers) + 2), edgecolor='black')\n",
    "plt.title('Histogram of Generated Integers')\n",
    "plt.xlabel('Generated Integer')\n",
    "plt.ylabel('Frequency')\n",
    "plt.grid(axis='y')\n",
    "plt.show()"
   ]
  },
  {
   "cell_type": "code",
   "execution_count": null,
   "id": "21140445",
   "metadata": {},
   "outputs": [],
   "source": []
  },
  {
   "cell_type": "code",
   "execution_count": null,
   "id": "3d546600",
   "metadata": {},
   "outputs": [],
   "source": []
  }
 ],
 "metadata": {
  "kernelspec": {
   "display_name": "Python 3 (ipykernel)",
   "language": "python",
   "name": "python3"
  },
  "language_info": {
   "codemirror_mode": {
    "name": "ipython",
    "version": 3
   },
   "file_extension": ".py",
   "mimetype": "text/x-python",
   "name": "python",
   "nbconvert_exporter": "python",
   "pygments_lexer": "ipython3",
   "version": "3.9.12"
  }
 },
 "nbformat": 4,
 "nbformat_minor": 5
}
